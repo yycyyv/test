{
 "cells": [
  {
   "cell_type": "markdown",
   "metadata": {},
   "source": [
    "# 线性回归\n"
   ]
  },
  {
   "cell_type": "markdown",
   "metadata": {},
   "source": [
    "* 给定$n$维的输入$\\bm{x} = [x_1, x_2, ..., x_n]^T$\n",
    "* 线性模型有一个$n$维权重$\\bm{w}$和一个标准偏差$b$，$$\\bm{w} = [w_1, w_2, ... , w_n]^T$$\n",
    "* 线性回归模型的输出是加权和$$y = w_{1}x_1 + w_{2}x_2 + ... + w_{n}x_{n} + b$$"
   ]
  },
  {
   "cell_type": "markdown",
   "metadata": {},
   "source": [
    "线性模型可以看作是单层的神经网络（带权重的层只有一层），有输入层$x_1, x_2, ..., x_n$，和输出层$o_1$，其中输入层的每个x_i都有指向输出层$o1$的箭头，代表有对应的权重，以及偏差$b$。\n",
    "\n",
    "衡量预测质量，$y$是真实值，$\\hat{y}$是估计值，则定义损失函数为$$l(y, \\hat{y}) = \\frac{1}{2}(y - \\hat{y})^2$$"
   ]
  },
  {
   "cell_type": "markdown",
   "metadata": {},
   "source": [
    "### 导入包"
   ]
  },
  {
   "cell_type": "code",
   "execution_count": null,
   "metadata": {},
   "outputs": [],
   "source": [
    "import torch\n",
    "import pandas\n",
    "import random"
   ]
  },
  {
   "cell_type": "markdown",
   "metadata": {},
   "source": []
  },
  {
   "cell_type": "code",
   "execution_count": null,
   "metadata": {},
   "outputs": [],
   "source": []
  },
  {
   "cell_type": "markdown",
   "metadata": {},
   "source": []
  }
 ],
 "metadata": {
  "kernelspec": {
   "display_name": "pytorch",
   "language": "python",
   "name": "python3"
  },
  "language_info": {
   "codemirror_mode": {
    "name": "ipython",
    "version": 3
   },
   "file_extension": ".py",
   "mimetype": "text/x-python",
   "name": "python",
   "nbconvert_exporter": "python",
   "pygments_lexer": "ipython3",
   "version": "3.10.14"
  }
 },
 "nbformat": 4,
 "nbformat_minor": 2
}
